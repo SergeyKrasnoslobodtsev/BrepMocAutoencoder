{
 "cells": [
  {
   "cell_type": "code",
   "execution_count": 1,
   "id": "f4b40a39",
   "metadata": {},
   "outputs": [
    {
     "name": "stderr",
     "output_type": "stream",
     "text": [
      "\u001b[32m2025-09-24 21:50:33.479\u001b[0m | \u001b[1mINFO    \u001b[0m | \u001b[36msrc.config\u001b[0m:\u001b[36m<module>\u001b[0m:\u001b[36m11\u001b[0m - \u001b[1mPROJ_ROOT path is: D:\\workspace\\projects\\freelance\\BRepMocAutoencoder\u001b[0m\n"
     ]
    },
    {
     "name": "stdout",
     "output_type": "stream",
     "text": [
      "Project root added to path: d:\\workspace\\projects\\freelance\\BRepMocAutoencoder\n"
     ]
    }
   ],
   "source": [
    "%load_ext autoreload\n",
    "%autoreload 2\n",
    "import notebook_setup\n",
    "from src.config import INTERIM_DATA_DIR, PROCESSED_DATA_DIR, REPORTS_DIR, EXTERNAL_DATA_DIR, MODELS_DIR"
   ]
  },
  {
   "cell_type": "code",
   "execution_count": null,
   "id": "a9a26e74",
   "metadata": {},
   "outputs": [],
   "source": []
  },
  {
   "cell_type": "markdown",
   "id": "dcde1eff",
   "metadata": {},
   "source": [
    "загрузка датасета и проверка"
   ]
  },
  {
   "cell_type": "code",
   "execution_count": 7,
   "id": "e1c5f19d",
   "metadata": {},
   "outputs": [
    {
     "name": "stdout",
     "output_type": "stream",
     "text": [
      "Train samples: 34, Val samples: 9, Test samples: 5\n",
      "name: <class 'str'>\n",
      "vertices: (93, 3)\n",
      "edges: (137, 10)\n",
      "faces: (46, 7)\n",
      "edge_to_vertex: (2, 137)\n",
      "face_to_edge: (273, 2)\n",
      "face_to_face: (2, 128)\n",
      "sdf_uv: (46, 500, 2)\n",
      "sdf_vals: (46, 500)\n"
     ]
    }
   ],
   "source": [
    "from src.dataset import BrepNetDataset\n",
    "import torch\n",
    "STATS_BREPNET = PROCESSED_DATA_DIR / \"dataset_stats.json\"\n",
    "\n",
    "BREP_NPZ_DIR = PROCESSED_DATA_DIR / \"features\" / \"brep\"\n",
    "\n",
    "train_dataset = BrepNetDataset(STATS_BREPNET, BREP_NPZ_DIR, split=\"training_set\")\n",
    "val_dataset = BrepNetDataset(STATS_BREPNET, BREP_NPZ_DIR, split=\"validation_set\")\n",
    "test_dataset = BrepNetDataset(STATS_BREPNET, BREP_NPZ_DIR, split=\"test_set\")\n",
    "\n",
    "print(f\"Train samples: {len(train_dataset)}, Val samples: {len(val_dataset)}, Test samples: {len(test_dataset)}\")\n",
    "for k, v in train_dataset[0].items():\n",
    "    print(f\"{k}: {tuple(v.shape) if isinstance(v, torch.Tensor) else type(v)}\")"
   ]
  }
 ],
 "metadata": {
  "kernelspec": {
   "display_name": "brepnet",
   "language": "python",
   "name": "python3"
  },
  "language_info": {
   "codemirror_mode": {
    "name": "ipython",
    "version": 3
   },
   "file_extension": ".py",
   "mimetype": "text/x-python",
   "name": "python",
   "nbconvert_exporter": "python",
   "pygments_lexer": "ipython3",
   "version": "3.11.13"
  }
 },
 "nbformat": 4,
 "nbformat_minor": 5
}
