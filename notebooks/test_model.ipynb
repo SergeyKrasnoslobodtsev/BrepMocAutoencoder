{
 "cells": [
  {
   "cell_type": "code",
   "execution_count": 4,
   "id": "f4b40a39",
   "metadata": {},
   "outputs": [
    {
     "name": "stdout",
     "output_type": "stream",
     "text": [
      "The autoreload extension is already loaded. To reload it, use:\n",
      "  %reload_ext autoreload\n"
     ]
    }
   ],
   "source": [
    "%load_ext autoreload\n",
    "%autoreload 2\n",
    "import notebook_setup\n",
    "from src.config import INTERIM_DATA_DIR, PROCESSED_DATA_DIR, REPORTS_DIR, EXTERNAL_DATA_DIR, MODELS_DIR"
   ]
  },
  {
   "cell_type": "markdown",
   "id": "dcde1eff",
   "metadata": {},
   "source": [
    "загрузка датасета и проверка"
   ]
  },
  {
   "cell_type": "code",
   "execution_count": 5,
   "id": "e1c5f19d",
   "metadata": {},
   "outputs": [
    {
     "name": "stdout",
     "output_type": "stream",
     "text": [
      "Train samples: 34, Val samples: 9, Test samples: 5\n",
      "name: <class 'str'>\n",
      "vertices: (93, 3)\n",
      "edges: (137, 10)\n",
      "faces: (46, 7)\n",
      "edge_to_vertex: (2, 137)\n",
      "face_to_edge: (273, 2)\n",
      "face_to_face: (2, 128)\n",
      "sdf_uv: (46, 500, 2)\n",
      "sdf_vals: (46, 500)\n"
     ]
    }
   ],
   "source": [
    "from src.dataset import BrepNetDataset\n",
    "import torch\n",
    "STATS_BREPNET = PROCESSED_DATA_DIR / \"dataset_stats.json\"\n",
    "\n",
    "BREP_NPZ_DIR = PROCESSED_DATA_DIR / \"features\" / \"brep\"\n",
    "\n",
    "train_dataset = BrepNetDataset(STATS_BREPNET, BREP_NPZ_DIR, split=\"training_set\")\n",
    "val_dataset = BrepNetDataset(STATS_BREPNET, BREP_NPZ_DIR, split=\"validation_set\")\n",
    "test_dataset = BrepNetDataset(STATS_BREPNET, BREP_NPZ_DIR, split=\"test_set\")\n",
    "\n",
    "print(f\"Train samples: {len(train_dataset)}, Val samples: {len(val_dataset)}, Test samples: {len(test_dataset)}\")\n",
    "for k, v in train_dataset[0].items():\n",
    "    print(f\"{k}: {tuple(v.shape) if isinstance(v, torch.Tensor) else type(v)}\")"
   ]
  },
  {
   "cell_type": "code",
   "execution_count": null,
   "id": "1ba90e2d",
   "metadata": {},
   "outputs": [],
   "source": [
    "from src.model.brep_autoencoder import BRepAutoEncoderModule\n",
    "from torchviz import make_dot\n",
    "\n",
    "model = BRepAutoEncoderModule()\n",
    "\n",
    "x = torch.randn(1, 28 * 28)\n",
    "y = model(x)\n",
    "make_dot(y, params=dict(model.named_parameters())).render(\"simple_nn\", format=\"png\")"
   ]
  }
 ],
 "metadata": {
  "kernelspec": {
   "display_name": "brepnet",
   "language": "python",
   "name": "python3"
  },
  "language_info": {
   "codemirror_mode": {
    "name": "ipython",
    "version": 3
   },
   "file_extension": ".py",
   "mimetype": "text/x-python",
   "name": "python",
   "nbconvert_exporter": "python",
   "pygments_lexer": "ipython3",
   "version": "3.11.13"
  }
 },
 "nbformat": 4,
 "nbformat_minor": 5
}
